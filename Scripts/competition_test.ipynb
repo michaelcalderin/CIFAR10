{
 "cells": [
  {
   "cell_type": "markdown",
   "id": "0a384d40-df09-4823-ae1a-f2f2b1421ca9",
   "metadata": {},
   "source": [
    "# Generating Predictions for Challenge (Test Images)"
   ]
  },
  {
   "cell_type": "markdown",
   "id": "14156100-3f6a-455e-a260-e4ad82524055",
   "metadata": {},
   "source": [
    "## Create CSV with Predictions"
   ]
  },
  {
   "cell_type": "markdown",
   "id": "6ea28b7d-2943-4236-b77e-8588514adf53",
   "metadata": {},
   "source": [
    "Load best model ..."
   ]
  },
  {
   "cell_type": "code",
   "execution_count": 1,
   "id": "542debff-ba46-424e-ae7f-2f232c0a0309",
   "metadata": {
    "tags": []
   },
   "outputs": [
    {
     "name": "stderr",
     "output_type": "stream",
     "text": [
      "2025-04-19 00:11:16.215772: E external/local_xla/xla/stream_executor/cuda/cuda_fft.cc:467] Unable to register cuFFT factory: Attempting to register factory for plugin cuFFT when one has already been registered\n",
      "WARNING: All log messages before absl::InitializeLog() is called are written to STDERR\n",
      "E0000 00:00:1745035876.236840 3092294 cuda_dnn.cc:8579] Unable to register cuDNN factory: Attempting to register factory for plugin cuDNN when one has already been registered\n",
      "E0000 00:00:1745035876.243391 3092294 cuda_blas.cc:1407] Unable to register cuBLAS factory: Attempting to register factory for plugin cuBLAS when one has already been registered\n",
      "W0000 00:00:1745035876.259417 3092294 computation_placer.cc:177] computation placer already registered. Please check linkage and avoid linking the same target more than once.\n",
      "W0000 00:00:1745035876.259430 3092294 computation_placer.cc:177] computation placer already registered. Please check linkage and avoid linking the same target more than once.\n",
      "W0000 00:00:1745035876.259432 3092294 computation_placer.cc:177] computation placer already registered. Please check linkage and avoid linking the same target more than once.\n",
      "W0000 00:00:1745035876.259433 3092294 computation_placer.cc:177] computation placer already registered. Please check linkage and avoid linking the same target more than once.\n",
      "2025-04-19 00:11:16.264474: I tensorflow/core/platform/cpu_feature_guard.cc:210] This TensorFlow binary is optimized to use available CPU instructions in performance-critical operations.\n",
      "To enable the following instructions: AVX2 FMA, in other operations, rebuild TensorFlow with the appropriate compiler flags.\n",
      "/apps/tensorflow/2.18/lib/python3.11/site-packages/tqdm/auto.py:21: TqdmWarning: IProgress not found. Please update jupyter and ipywidgets. See https://ipywidgets.readthedocs.io/en/stable/user_install.html\n",
      "  from .autonotebook import tqdm as notebook_tqdm\n",
      "2025-04-19 00:11:22.698401: E external/local_xla/xla/stream_executor/cuda/cuda_platform.cc:51] failed call to cuInit: INTERNAL: CUDA error: Failed call to cuInit: UNKNOWN ERROR (303)\n",
      "All model checkpoint layers were used when initializing TFViTModel.\n",
      "\n",
      "All the layers of TFViTModel were initialized from the model checkpoint at baseline_vit_model.\n",
      "If your task is similar to the task the model of the checkpoint was trained on, you can already use TFViTModel for predictions without further training.\n"
     ]
    }
   ],
   "source": [
    "from tensorflow.keras.models import load_model\n",
    "from tensorflow.keras.layers import Layer\n",
    "from transformers import TFViTModel\n",
    "\n",
    "# Name of model\n",
    "trial_name = 'baseline'\n",
    "\n",
    "# Wrapper to convert to Keras layer\n",
    "class ViTLayer(Layer):\n",
    "    def __init__(self, vit_model=None, model_name='google/vit-base-patch16-224', **kwargs):\n",
    "        super(ViTLayer, self).__init__(**kwargs)\n",
    "        # Load vit_model\n",
    "        self.vit_model = vit_model if vit_model is not None else TFViTModel.from_pretrained(f'{trial_name}_vit_model')\n",
    "        # Store model name for serialization (needed for saving/loading)\n",
    "        self.model_name = model_name\n",
    "\n",
    "    def call(self, inputs):\n",
    "        outputs = self.vit_model(inputs)\n",
    "        return outputs.pooler_output\n",
    "\n",
    "    def get_config(self):\n",
    "        config = super(ViTLayer, self).get_config()\n",
    "        config.update({\n",
    "            'model_name': self.model_name\n",
    "        })\n",
    "        return config\n",
    "\n",
    "    @classmethod\n",
    "    def from_config(cls, config):\n",
    "        # Get model_name and remove it from config to avoid passing to init\n",
    "        model_name = config.pop('model_name')\n",
    "        # Create instance without vit_model (will be loaded in init)\n",
    "        return cls(model_name=model_name, **config)\n",
    "\n",
    "# Load model\n",
    "model = load_model(f'{trial_name}_transfer_model.keras', custom_objects={'ViTLayer': ViTLayer})"
   ]
  },
  {
   "cell_type": "markdown",
   "id": "54e1321f-33c3-4e0a-9ef4-41983ac1e6b8",
   "metadata": {
    "tags": []
   },
   "source": [
    "Generate predictions into a CSV ..."
   ]
  },
  {
   "cell_type": "code",
   "execution_count": 2,
   "id": "ae0101f8-a5d2-45b6-aeb1-46bf65a49d35",
   "metadata": {
    "tags": []
   },
   "outputs": [
    {
     "name": "stdout",
     "output_type": "stream",
     "text": [
      "Submission CSV created!\n"
     ]
    }
   ],
   "source": [
    "from general_training import predict_trial\n",
    "from transformers import AutoImageProcessor\n",
    "import tensorflow as tf\n",
    "import numpy as np\n",
    "from PIL import Image\n",
    "import pandas as pd\n",
    "import os\n",
    "\n",
    "# Load preprocessor\n",
    "processor = AutoImageProcessor.from_pretrained('google/vit-base-patch16-224')\n",
    "\n",
    "# Path to folder with 0001.png ... 10000.png\n",
    "image_dir = 'competition_test_images/cifar10_test_images'\n",
    "\n",
    "# Prepare prediction list\n",
    "predictions = []\n",
    "image_ids = []\n",
    "\n",
    "# Loop through 0001.png to 10000.png\n",
    "for i in range(1, 10001):\n",
    "    filename = f'{i:04}.png'\n",
    "    path = os.path.join(image_dir, filename)\n",
    "    \n",
    "    # Load and preprocess image\n",
    "    img = Image.open(path).resize((32, 32)) # Ensure 32x32\n",
    "    img_array = np.array(img)\n",
    "    img_array = np.expand_dims(img_array, axis=0) # Add batch dimension\n",
    "    img_array = processor(images=img_array, return_tensors='tf')['pixel_values']\n",
    "    \n",
    "    # Predict\n",
    "    pred = model.predict(img_array, verbose=0)\n",
    "    predicted_class = np.argmax(pred)\n",
    "    \n",
    "    image_ids.append(f'{i:04}')\n",
    "    predictions.append(predicted_class)\n",
    "\n",
    "# Save CSV\n",
    "submission_df = pd.DataFrame({\n",
    "    'ID': image_ids,\n",
    "    'PredictedLabel': predictions\n",
    "})\n",
    "\n",
    "submission_df.to_csv('MichaelCalderin_section2_submission.csv', index=False)\n",
    "print('Submission CSV created!')"
   ]
  }
 ],
 "metadata": {
  "kernelspec": {
   "display_name": "Tensorflow-2.18",
   "language": "python",
   "name": "tensorflow-2.18"
  },
  "language_info": {
   "codemirror_mode": {
    "name": "ipython",
    "version": 3
   },
   "file_extension": ".py",
   "mimetype": "text/x-python",
   "name": "python",
   "nbconvert_exporter": "python",
   "pygments_lexer": "ipython3",
   "version": "3.11.11"
  }
 },
 "nbformat": 4,
 "nbformat_minor": 5
}
